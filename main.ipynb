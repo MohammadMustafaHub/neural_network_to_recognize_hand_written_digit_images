{
 "cells": [
  {
   "cell_type": "markdown",
   "metadata": {},
   "source": [
    "# Neural network to classify hand written digits using the mnist dataset"
   ]
  },
  {
   "cell_type": "code",
   "execution_count": 124,
   "metadata": {},
   "outputs": [],
   "source": [
    "import torch\n",
    "import torch.nn as nn\n",
    "import numpy as np\n",
    "import matplotlib.pyplot as plt\n",
    "import torchvision\n",
    "from torchvision import transforms, datasets\n",
    "import torch.functional as F\n",
    "import torch.optim as optim"
   ]
  },
  {
   "cell_type": "code",
   "execution_count": 9,
   "metadata": {},
   "outputs": [],
   "source": [
    "# prepering the data\n",
    "t = transforms.Compose([\n",
    "    transforms.ToTensor()\n",
    "])\n",
    "traning = datasets.MNIST(\"\", train=True, download=True,transform= t)\n",
    "\n",
    "t = transforms.Compose([\n",
    "    transforms.ToTensor()\n",
    "])\n",
    "testing = datasets.MNIST(\"\", train=False, download=True,transform= t)"
   ]
  },
  {
   "cell_type": "code",
   "execution_count": 10,
   "metadata": {},
   "outputs": [],
   "source": [
    "train_set = torch.utils.data.DataLoader(dataset=traning, batch_size=10, shuffle=True)\n",
    "test_set = torch.utils.data.DataLoader(dataset=testing, batch_size=10, shuffle=True)\n"
   ]
  },
  {
   "cell_type": "code",
   "execution_count": 100,
   "metadata": {},
   "outputs": [
    {
     "data": {
      "text/plain": [
       "array([5923., 6742., 5958., 6131., 5842., 5421., 5918., 6265., 5851.,\n",
       "       5949.])"
      ]
     },
     "execution_count": 100,
     "metadata": {},
     "output_type": "execute_result"
    }
   ],
   "source": [
    "listdata = np.zeros(10)\n",
    "for data in train_set:\n",
    "    _, Y = data\n",
    "    for y in Y:\n",
    "        listdata[int(y)] += 1\n",
    "        \n",
    "listdata"
   ]
  },
  {
   "cell_type": "code",
   "execution_count": 104,
   "metadata": {},
   "outputs": [
    {
     "data": {
      "image/png": "[encoded data removed]",
      "text/plain": [
       "<Figure size 640x480 with 1 Axes>"
      ]
     },
     "metadata": {},
     "output_type": "display_data"
    }
   ],
   "source": [
    "plt.bar(range(len(listdata)), listdata)\n",
    "plt.xlabel('Digit')\n",
    "plt.ylabel('Count')\n",
    "plt.title('Count of Digits')\n",
    "plt.xticks(range(len(listdata)), range(10))  # Add x-axis labels from 0 to 9\n",
    "plt.show()"
   ]
  },
  {
   "cell_type": "markdown",
   "metadata": {},
   "source": [
    "# Making the network"
   ]
  },
  {
   "cell_type": "code",
   "execution_count": 122,
   "metadata": {},
   "outputs": [],
   "source": [
    "class Network(nn.Module):\n",
    "    def __init__(self):\n",
    "        super(Network, self).__init__()\n",
    "        \n",
    "        self.fc1 = nn.Linear(28*28, 88)\n",
    "        self.a1 = nn.ReLU()\n",
    "        self.fc2 = nn.Linear(88, 55)\n",
    "        self.a2 = nn.ReLU()\n",
    "        self.fc3 = nn.Linear(55, 10)\n",
    "        self.a3 = nn.LogSoftmax()\n",
    "        \n",
    "    def forward(self, input):\n",
    "        x = self.fc1(input)\n",
    "        x = self.a1(x)\n",
    "        x = self.fc2(x)\n",
    "        x = self.a2(x)\n",
    "        x = self.fc3(x)\n",
    "        x = self.a3(x)\n",
    "        \n",
    "        return x\n",
    "        "
   ]
  },
  {
   "cell_type": "code",
   "execution_count": 123,
   "metadata": {},
   "outputs": [
    {
     "name": "stderr",
     "output_type": "stream",
     "text": [
      "C:\\Users\\Moha\\AppData\\Local\\Packages\\PythonSoftwareFoundation.Python.3.12_qbz5n2kfra8p0\\LocalCache\\local-packages\\Python312\\site-packages\\torch\\nn\\modules\\module.py:1511: UserWarning: Implicit dimension choice for log_softmax has been deprecated. Change the call to include dim=X as an argument.\n",
      "  return self._call_impl(*args, **kwargs)\n"
     ]
    },
    {
     "data": {
      "text/plain": [
       "tensor([[-2.2598, -2.4276, -2.2189, -2.4337, -2.4397, -2.3416, -2.4059, -2.1218,\n",
       "         -2.1426, -2.3005]], grad_fn=<LogSoftmaxBackward0>)"
      ]
     },
     "execution_count": 123,
     "metadata": {},
     "output_type": "execute_result"
    }
   ],
   "source": [
    "model = Network()\n",
    "model(torch.rand(28,28).view([-1, 28*28]))"
   ]
  },
  {
   "cell_type": "markdown",
   "metadata": {},
   "source": [
    "## traning the model"
   ]
  },
  {
   "cell_type": "code",
   "execution_count": 130,
   "metadata": {},
   "outputs": [],
   "source": [
    "optimizer = optim.Adam(model.parameters(), lr=0.001)\n",
    "crition = nn.NLLLoss()\n",
    "EPOCHS = 4\n",
    "\n",
    "\n"
   ]
  },
  {
   "cell_type": "code",
   "execution_count": 132,
   "metadata": {},
   "outputs": [
    {
     "name": "stderr",
     "output_type": "stream",
     "text": [
      "C:\\Users\\Moha\\AppData\\Local\\Packages\\PythonSoftwareFoundation.Python.3.12_qbz5n2kfra8p0\\LocalCache\\local-packages\\Python312\\site-packages\\torch\\nn\\modules\\module.py:1511: UserWarning: Implicit dimension choice for log_softmax has been deprecated. Change the call to include dim=X as an argument.\n",
      "  return self._call_impl(*args, **kwargs)\n"
     ]
    },
    {
     "name": "stdout",
     "output_type": "stream",
     "text": [
      "tensor(0.2110, grad_fn=<NllLossBackward0>)\n",
      "tensor(0.0377, grad_fn=<NllLossBackward0>)\n",
      "tensor(0.0945, grad_fn=<NllLossBackward0>)\n",
      "tensor(0.0022, grad_fn=<NllLossBackward0>)\n"
     ]
    }
   ],
   "source": [
    "# define traning loop\n",
    "\n",
    "for e in range(EPOCHS):\n",
    "    for data in train_set:\n",
    "        X, y = data\n",
    "        model.zero_grad()\n",
    "        out = model(X.view([-1, 28*28]))\n",
    "        \n",
    "        loss = crition(out, y)\n",
    "        loss.backward()\n",
    "        optimizer.step()\n",
    "    print(loss)\n"
   ]
  },
  {
   "cell_type": "code",
   "execution_count": 135,
   "metadata": {},
   "outputs": [
    {
     "name": "stderr",
     "output_type": "stream",
     "text": [
      "<>:1: SyntaxWarning: invalid escape sequence '\\P'\n",
      "<>:1: SyntaxWarning: invalid escape sequence '\\P'\n",
      "C:\\Users\\Moha\\AppData\\Local\\Temp\\ipykernel_13544\\2670056552.py:1: SyntaxWarning: invalid escape sequence '\\P'\n",
      "  torch.save(model.state_dict(), \"C:\\Projects\\python\\mnist\\model\\mymodel.pt\")\n"
     ]
    }
   ],
   "source": [
    "torch.save(model.state_dict(), \"C:\\Projects\\python\\mnist\\model\\mymodel.pt\")"
   ]
  },
  {
   "cell_type": "code",
   "execution_count": 137,
   "metadata": {},
   "outputs": [
    {
     "name": "stdout",
     "output_type": "stream",
     "text": [
      "Accuricy =  1\n"
     ]
    }
   ],
   "source": [
    "correct = 0\n",
    "total = 0\n",
    "with torch.no_grad():\n",
    "    for data in train_set:\n",
    "        X, y = data\n",
    "        \n",
    "        out = model(X.view(-1, 28*28))\n",
    "        for idx, i in enumerate(out):\n",
    "            if(torch.argmax(i) == y[idx]):\n",
    "                correct += 1 \n",
    "            total += 1\n",
    "            \n",
    "            \n",
    "print(\"Accuricy = \", round(correct/total))"
   ]
  },
  {
   "cell_type": "code",
   "execution_count": 218,
   "metadata": {},
   "outputs": [
    {
     "name": "stdout",
     "output_type": "stream",
     "text": [
      "tensor(4)\n",
      "tensor(4)\n"
     ]
    },
    {
     "data": {
      "image/png": "[encoded data removed]",
      "text/plain": [
       "<Figure size 640x480 with 1 Axes>"
      ]
     },
     "metadata": {},
     "output_type": "display_data"
    }
   ],
   "source": [
    "for data in test_set:\n",
    "    x, y = data\n",
    "    plt.imshow(x[0][0])\n",
    "    o = model(x.view(-1, 28*28))\n",
    "    print(torch.argmax(o[0]))\n",
    "    print(y[0])\n",
    "    break"
   ]
  }
 ],
 "metadata": {
  "kernelspec": {
   "display_name": "Python 3",
   "language": "python",
   "name": "python3"
  },
  "language_info": {
   "codemirror_mode": {
    "name": "ipython",
    "version": 3
   },
   "file_extension": ".py",
   "mimetype": "text/x-python",
   "name": "python",
   "nbconvert_exporter": "python",
   "pygments_lexer": "ipython3",
   "version": "3.12.3"
  }
 },
 "nbformat": 4,
 "nbformat_minor": 2
}
